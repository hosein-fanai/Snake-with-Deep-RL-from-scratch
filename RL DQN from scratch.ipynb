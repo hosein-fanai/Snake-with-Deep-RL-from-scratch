{
 "cells": [
  {
   "cell_type": "markdown",
   "metadata": {},
   "source": [
    "# Install Dependencies"
   ]
  },
  {
   "cell_type": "code",
   "execution_count": null,
   "metadata": {},
   "outputs": [],
   "source": [
    "# %pip install tensorflow==2.10"
   ]
  },
  {
   "cell_type": "markdown",
   "metadata": {},
   "source": [
    "# Checking Environment"
   ]
  },
  {
   "cell_type": "code",
   "execution_count": 1,
   "metadata": {},
   "outputs": [
    {
     "name": "stdout",
     "output_type": "stream",
     "text": [
      "pygame 2.1.0 (SDL 2.0.16, Python 3.10.10)\n",
      "Hello from the pygame community. https://www.pygame.org/contribute.html\n",
      "life: \t1\tscore: \t0\tfps: \t0\n",
      "------------\n",
      "-          -\n",
      "-          -\n",
      "-          -\n",
      "-F         -\n",
      "-          -\n",
      "-          -\n",
      "-     v    -\n",
      "-          -\n",
      "-          -\n",
      "-          -\n",
      "------------\n"
     ]
    }
   ],
   "source": [
    "from utils import make_env\n",
    "\n",
    "\n",
    "env = make_env(max_step=1000, num_stack=4)\n",
    "env.reset()\n",
    "\n",
    "action = env.action_space.sample()\n",
    "state, reward, done, info = env.step(action)\n",
    "\n",
    "_ = env.render(mode=\"print\")"
   ]
  },
  {
   "cell_type": "code",
   "execution_count": 2,
   "metadata": {},
   "outputs": [
    {
     "data": {
      "image/png": "[encoded data removed]",
      "text/plain": [
       "<Figure size 640x480 with 1 Axes>"
      ]
     },
     "metadata": {},
     "output_type": "display_data"
    }
   ],
   "source": [
    "from matplotlib import pyplot as plt\n",
    "\n",
    "\n",
    "obs = env.render(mode=\"rgb_array\")\n",
    "\n",
    "plt.imshow(obs)\n",
    "plt.show()"
   ]
  },
  {
   "cell_type": "code",
   "execution_count": 3,
   "metadata": {},
   "outputs": [
    {
     "data": {
      "text/plain": [
       "(2196.0, 290, 2)"
      ]
     },
     "execution_count": 3,
     "metadata": {},
     "output_type": "execute_result"
    }
   ],
   "source": [
    "import time\n",
    "\n",
    "\n",
    "env.reset()\n",
    "done = False\n",
    "rewards = 0\n",
    "\n",
    "frames = 0\n",
    "start = time.time()\n",
    "while not done:\n",
    "    action = env.action_space.sample()\n",
    "    obs, reward, done, info = env.step(action)\n",
    "\n",
    "    rewards += reward\n",
    "\n",
    "    frames += 1\n",
    "\n",
    "frames // (time.time() - start), frames, rewards"
   ]
  },
  {
   "cell_type": "code",
   "execution_count": 4,
   "metadata": {},
   "outputs": [
    {
     "data": {
      "text/plain": [
       "(Discrete(5), Box(0, 4, (4, 10, 10), uint8))"
      ]
     },
     "execution_count": 4,
     "metadata": {},
     "output_type": "execute_result"
    }
   ],
   "source": [
    "action_spec = env.action_space\n",
    "obs_spec = env.observation_space\n",
    "\n",
    "action_spec, obs_spec"
   ]
  },
  {
   "cell_type": "markdown",
   "metadata": {},
   "source": [
    "# Dueling Double DQN (or Dueling DDQN)"
   ]
  },
  {
   "cell_type": "code",
   "execution_count": 5,
   "metadata": {},
   "outputs": [
    {
     "name": "stdout",
     "output_type": "stream",
     "text": [
      "Model: \"model\"\n",
      "__________________________________________________________________________________________________\n",
      " Layer (type)                   Output Shape         Param #     Connected to                     \n",
      "==================================================================================================\n",
      " board (InputLayer)             [(None, 4, 10, 10)]  0           []                               \n",
      "                                                                                                  \n",
      " lambda (Lambda)                (None, 4, 10, 10)    0           ['board[0][0]']                  \n",
      "                                                                                                  \n",
      " flatten (Flatten)              (None, 400)          0           ['lambda[0][0]']                 \n",
      "                                                                                                  \n",
      " dense (Dense)                  (None, 64)           25664       ['flatten[0][0]']                \n",
      "                                                                                                  \n",
      " dropout (Dropout)              (None, 64)           0           ['dense[0][0]']                  \n",
      "                                                                                                  \n",
      " dense_1 (Dense)                (None, 64)           4160        ['dropout[0][0]']                \n",
      "                                                                                                  \n",
      " dropout_1 (Dropout)            (None, 64)           0           ['dense_1[0][0]']                \n",
      "                                                                                                  \n",
      " dense_3 (Dense)                (None, 5)            325         ['dropout_1[0][0]']              \n",
      "                                                                                                  \n",
      " tf.math.reduce_max (TFOpLambda  (None, 1)           0           ['dense_3[0][0]']                \n",
      " )                                                                                                \n",
      "                                                                                                  \n",
      " dense_2 (Dense)                (None, 1)            65          ['dropout_1[0][0]']              \n",
      "                                                                                                  \n",
      " tf.math.subtract (TFOpLambda)  (None, 5)            0           ['dense_3[0][0]',                \n",
      "                                                                  'tf.math.reduce_max[0][0]']     \n",
      "                                                                                                  \n",
      " tf.__operators__.add (TFOpLamb  (None, 5)           0           ['dense_2[0][0]',                \n",
      " da)                                                              'tf.math.subtract[0][0]']       \n",
      "                                                                                                  \n",
      "==================================================================================================\n",
      "Total params: 30,214\n",
      "Trainable params: 30,214\n",
      "Non-trainable params: 0\n",
      "__________________________________________________________________________________________________\n"
     ]
    }
   ],
   "source": [
    "import tensorflow as tf\n",
    "from tensorflow.keras import models, layers, utils\n",
    "\n",
    "\n",
    "# utils.set_random_seed(42)\n",
    "\n",
    "\n",
    "inputs = layers.Input(shape=obs_spec.shape, dtype=\"uint8\", name=\"board\")\n",
    "x = layers.Lambda(lambda input_batch: tf.cast(input_batch, dtype=\"float32\") / 4.)(inputs)\n",
    "x = layers.Flatten()(x)\n",
    "x = layers.Dense(64, activation=\"relu\")(x)\n",
    "x = layers.Dropout(0.15)(x)\n",
    "x = layers.Dense(64, activation=\"relu\")(x)\n",
    "x = layers.Dropout(0.15)(x)\n",
    "state_values = layers.Dense(1)(x)\n",
    "raw_advantages = layers.Dense(action_spec.n)(x)\n",
    "advantages = raw_advantages - tf.reduce_max(raw_advantages, axis=1, keepdims=True)\n",
    "Q_values = state_values + advantages\n",
    "\n",
    "model = models.Model(inputs=inputs, outputs=Q_values)\n",
    "\n",
    "model.summary()"
   ]
  },
  {
   "cell_type": "code",
   "execution_count": 6,
   "metadata": {},
   "outputs": [],
   "source": [
    "target = models.clone_model(model)\n",
    "target.set_weights(model.get_weights())"
   ]
  },
  {
   "cell_type": "markdown",
   "metadata": {},
   "source": [
    "# Hyperparameters"
   ]
  },
  {
   "cell_type": "code",
   "execution_count": 7,
   "metadata": {},
   "outputs": [],
   "source": [
    "from tensorflow.keras import optimizers, losses\n",
    "\n",
    "from collections import deque\n",
    "\n",
    "\n",
    "n_iterations = 5_000_000\n",
    "iter_type = \"step_wise\"\n",
    "n_step = 4 # update period\n",
    "\n",
    "target_soft_update = False\n",
    "target_update_interval = 7_500 # n_iterations * 0.15 * (0.5 if target_soft_update else 1)\n",
    "\n",
    "gamma = 0.80 # Discount factor\n",
    "buffer_size = 1_000_000\n",
    "fill_buffer_episodes = 100\n",
    "\n",
    "batch_size = 64\n",
    "lr = 2.5e-4\n",
    "optimizer = optimizers.RMSprop(learning_rate=lr, rho=0.95, epsilon=0.00001, centered=True)\n",
    "loss_fn = losses.Huber()\n",
    "\n",
    "epsilon_fn = optimizers.schedules.PolynomialDecay(\n",
    "    initial_learning_rate=1.0, \n",
    "    decay_steps=n_iterations//4, \n",
    "    end_learning_rate=0.01\n",
    ")\n",
    "\n",
    "replay_buffer = deque(maxlen=buffer_size)\n",
    "\n",
    "params = {\n",
    "    \"iteration\": n_iterations,\n",
    "    \"iter_type\": iter_type,\n",
    "    \"n_step\": n_step,\n",
    "    \"batch_size\": batch_size,\n",
    "    \"gamma\": gamma,\n",
    "    \"warmup\": fill_buffer_episodes,\n",
    "    \"target_update_interval\": target_update_interval,\n",
    "    \"soft_update\": target_soft_update,\n",
    "    \"epsilon_fn\": epsilon_fn,\n",
    "    \"save_model_reward_threshold\": 15\n",
    "}"
   ]
  },
  {
   "cell_type": "markdown",
   "metadata": {},
   "source": [
    "# Training Agent"
   ]
  },
  {
   "cell_type": "code",
   "execution_count": 8,
   "metadata": {},
   "outputs": [],
   "source": [
    "from dqn_agent import DQNAgent\n",
    "\n",
    "\n",
    "agent = DQNAgent(\n",
    "    env=env, model=model, target=target, \n",
    "    optimizer=optimizer, loss_fn=loss_fn, \n",
    "    replay_buffer=replay_buffer\n",
    ")"
   ]
  },
  {
   "cell_type": "code",
   "execution_count": 9,
   "metadata": {},
   "outputs": [
    {
     "name": "stdout",
     "output_type": "stream",
     "text": [
      "Iteration: 1962336, Steps: 3, FPS: 160, Reward: 0.0, Epsilon: 0.0100, Loss: 0.015401093289256096365"
     ]
    }
   ],
   "source": [
    "rewards, total_loss = agent.run_training(**params)\n",
    "\n",
    "agent.model.save(f\"models/Snake DQN ({n_iterations} iters).h5\")"
   ]
  },
  {
   "cell_type": "code",
   "execution_count": null,
   "metadata": {},
   "outputs": [],
   "source": [
    "from matplotlib import pyplot as plt\n",
    "\n",
    "\n",
    "plt.figure(figsize=(10, 10))\n",
    "\n",
    "plt.plot(range(len(rewards)), rewards)\n",
    "plt.ylabel(\"Rewards\")\n",
    "plt.xlabel(\"Episode\")\n",
    "plt.show()\n",
    "\n",
    "plt.plot(range(len(total_loss)), total_loss)\n",
    "plt.ylabel(\"Loss\")\n",
    "plt.xlabel(\"Update Iteration\")\n",
    "plt.show()"
   ]
  },
  {
   "cell_type": "markdown",
   "metadata": {},
   "source": [
    "# Using Trained Agent's Policy"
   ]
  },
  {
   "cell_type": "code",
   "execution_count": 29,
   "metadata": {},
   "outputs": [
    {
     "name": "stdout",
     "output_type": "stream",
     "text": [
      "6, -1\n",
      "FPS: 104.12799847052973, Frames: 535\n"
     ]
    }
   ],
   "source": [
    "# agent.model.load_weights(\"models/DQN_itr#99_eps#0.0100_rw#7.0.h5\")\n",
    "\n",
    "env.close()\n",
    "env = make_env(num_stack=4)\n",
    "state = env.reset()\n",
    "\n",
    "rewards = 0\n",
    "done = False\n",
    "\n",
    "frames = []\n",
    "start = time.time()\n",
    "for _ in range(5000):\n",
    "    action = agent.boltzman_sampling_policy(state)\n",
    "    # action = agent.epsilon_greedy_policy(state)\n",
    "    state, reward, done, info = env.step(action)\n",
    "\n",
    "    rewards += reward\n",
    "    print(\"\\r{}, {}\".format(rewards, reward), end=\"\")\n",
    "\n",
    "    obs = env.render(\"rgb_array\")\n",
    "    frames.append(obs)\n",
    "\n",
    "    if done:\n",
    "        break\n",
    "\n",
    "fps = len(frames) / (time.time() - start)\n",
    "print(f\"\\nFPS: {fps}, Frames: {len(frames)}\")"
   ]
  },
  {
   "cell_type": "code",
   "execution_count": 18,
   "metadata": {},
   "outputs": [],
   "source": [
    "import PIL\n",
    "\n",
    "import os\n",
    "\n",
    "\n",
    "image_path = os.path.join(\"rl videos\", f\"snake_dqn_{n_iterations}_iters_new.gif\")\n",
    "frame_images = [PIL.Image.fromarray(frame) for frame in frames]\n",
    "frame_images[0].save(image_path, format='GIF',\n",
    "                     append_images=frame_images[1:],\n",
    "                     save_all=True,\n",
    "                     duration=30,\n",
    "                     loop=0)"
   ]
  }
 ],
 "metadata": {
  "kernelspec": {
   "display_name": "Python 3 (ipykernel)",
   "language": "python",
   "name": "python3"
  },
  "language_info": {
   "codemirror_mode": {
    "name": "ipython",
    "version": 3
   },
   "file_extension": ".py",
   "mimetype": "text/x-python",
   "name": "python",
   "nbconvert_exporter": "python",
   "pygments_lexer": "ipython3",
   "version": "3.10.10"
  },
  "vscode": {
   "interpreter": {
    "hash": "dd007ac3b45ff6a667b1025d767f59ded49e869e4dbd8cb641dd50277aed6055"
   }
  }
 },
 "nbformat": 4,
 "nbformat_minor": 4
}
