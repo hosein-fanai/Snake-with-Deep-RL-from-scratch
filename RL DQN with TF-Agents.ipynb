{
 "cells": [
  {
   "cell_type": "code",
   "execution_count": null,
   "metadata": {},
   "outputs": [],
   "source": [
    "# %pip install tf-agents==0.14.0"
   ]
  },
  {
   "cell_type": "code",
   "execution_count": 1,
   "metadata": {},
   "outputs": [],
   "source": [
    "from tf_agents.environments.tf_py_environment import TFPyEnvironment\n",
    "from tf_agents.environments.gym_wrapper import GymWrapper\n",
    "\n",
    "from utils import make_env\n",
    "\n",
    "\n",
    "env = make_env(max_step=1000)\n",
    "env = GymWrapper(env)\n",
    "env = TFPyEnvironment(env)\n",
    "\n",
    "env.reset()\n",
    "_ = env.render()"
   ]
  },
  {
   "cell_type": "code",
   "execution_count": 2,
   "metadata": {},
   "outputs": [],
   "source": [
    "train_iters = 5_000_000\n",
    "buffer_size = 1_000_000\n",
    "\n",
    "update_period = 10 # run a training step every 10 collect steps\n",
    "episode_max_step = 1_000"
   ]
  },
  {
   "cell_type": "code",
   "execution_count": 3,
   "metadata": {},
   "outputs": [],
   "source": [
    "import tensorflow as tf\n",
    "from tensorflow.keras import layers\n",
    "\n",
    "from tf_agents.networks.q_network import QNetwork\n",
    "\n",
    "\n",
    "preprocessing_layer = layers.Lambda(lambda obs: tf.cast(obs, tf.float32) / 4.)\n",
    "fc_layer_params = [128, 64, 64]\n",
    "dropout_layer_params = [0.5, 0.5, 0.5]\n",
    "\n",
    "q_net = QNetwork(\n",
    "    env.observation_spec(),\n",
    "    env.action_spec(),\n",
    "    preprocessing_layers=preprocessing_layer,\n",
    "    fc_layer_params=fc_layer_params,\n",
    "    dropout_layer_params=dropout_layer_params\n",
    ")"
   ]
  },
  {
   "cell_type": "code",
   "execution_count": 4,
   "metadata": {},
   "outputs": [],
   "source": [
    "from tensorflow.keras import optimizers, losses\n",
    "\n",
    "from tf_agents.agents.dqn.dqn_agent import DqnAgent\n",
    "\n",
    "\n",
    "train_step = tf.Variable(0)\n",
    "\n",
    "optimizer = optimizers.Adam(learning_rate=3e-7)\n",
    "                                     \n",
    "epsilon_fn = optimizers.schedules.PolynomialDecay(\n",
    "    initial_learning_rate=1.0,\n",
    "    decay_steps=train_iters // update_period,\n",
    "    end_learning_rate=0.01\n",
    ")\n",
    "\n",
    "agent = DqnAgent(\n",
    "    env.time_step_spec(),\n",
    "    env.action_spec(),\n",
    "    q_network=q_net,\n",
    "    optimizer=optimizer,\n",
    "    target_update_period=2_000,\n",
    "    td_errors_loss_fn=losses.Huber(reduction=\"none\"),\n",
    "    gamma=0.95, # discount factor\n",
    "    train_step_counter=train_step,\n",
    "    epsilon_greedy=lambda: epsilon_fn(train_step)\n",
    ")\n",
    "\n",
    "agent.initialize()"
   ]
  },
  {
   "cell_type": "code",
   "execution_count": 5,
   "metadata": {},
   "outputs": [
    {
     "name": "stdout",
     "output_type": "stream",
     "text": [
      "WARNING:tensorflow:From c:\\Users\\Hosein\\anaconda3\\envs\\tf_env\\lib\\site-packages\\tensorflow\\python\\autograph\\impl\\api.py:377: ReplayBuffer.get_next (from tf_agents.replay_buffers.replay_buffer) is deprecated and will be removed in a future version.\n",
      "Instructions for updating:\n",
      "Use `as_dataset(..., single_deterministic_pass=False) instead.\n"
     ]
    }
   ],
   "source": [
    "from tf_agents.replay_buffers import tf_uniform_replay_buffer\n",
    "\n",
    "\n",
    "replay_buffer = tf_uniform_replay_buffer.TFUniformReplayBuffer(\n",
    "    data_spec=agent.collect_data_spec,\n",
    "    batch_size=env.batch_size,\n",
    "    max_length=buffer_size\n",
    ")\n",
    "replay_buffer_observer = replay_buffer.add_batch\n",
    "\n",
    "dataset = replay_buffer.as_dataset(\n",
    "    sample_batch_size=64,\n",
    "    num_steps=2,\n",
    "    num_parallel_calls=3\n",
    ").prefetch(3)"
   ]
  },
  {
   "cell_type": "code",
   "execution_count": 6,
   "metadata": {},
   "outputs": [
    {
     "name": "stderr",
     "output_type": "stream",
     "text": [
      "INFO:absl: \n",
      "\t\t NumberOfEpisodes = 0\n",
      "\t\t EnvironmentSteps = 0\n",
      "\t\t AverageReturn = 0.0\n",
      "\t\t AverageEpisodeLength = 0.0\n"
     ]
    }
   ],
   "source": [
    "from tf_agents.metrics import tf_metrics\n",
    "from tf_agents.eval.metric_utils import log_metrics\n",
    "\n",
    "import logging\n",
    "\n",
    "\n",
    "class ShowProgress:\n",
    "\n",
    "    def __init__(self, total):\n",
    "        self.counter = 0\n",
    "        self.total = total\n",
    "        \n",
    "    def __call__(self, trajectory):\n",
    "        if not trajectory.is_boundary():\n",
    "            self.counter += 1\n",
    "        if self.counter % 100 == 0:\n",
    "            print(\"\\r{}/{}\".format(self.counter, self.total), end=\"\")\n",
    "            \n",
    "\n",
    "train_metrics = [\n",
    "    tf_metrics.NumberOfEpisodes(),\n",
    "    tf_metrics.EnvironmentSteps(),\n",
    "    tf_metrics.AverageReturnMetric(),\n",
    "    tf_metrics.AverageEpisodeLengthMetric(),\n",
    "]\n",
    "\n",
    "logging.getLogger().setLevel(logging.INFO)\n",
    "log_metrics(train_metrics)"
   ]
  },
  {
   "cell_type": "code",
   "execution_count": 7,
   "metadata": {},
   "outputs": [],
   "source": [
    "from tf_agents.drivers.dynamic_step_driver import DynamicStepDriver\n",
    "\n",
    "\n",
    "# class LimitSteps:\n",
    "\n",
    "#     def __init__(self, max):\n",
    "#         self.max = max\n",
    "#         self.counter = 0\n",
    "        \n",
    "#     @tf.function\n",
    "#     def __call__(self, trajectory):\n",
    "#         # if not trajectory.is_boundary():\n",
    "#         #     self.counter += 1\n",
    "#         # else:\n",
    "#         #     self.counter = 0\n",
    "\n",
    "#         if self.counter > self.max:\n",
    "#             env.reset()\n",
    "\n",
    "\n",
    "collect_driver = DynamicStepDriver(\n",
    "    env,\n",
    "    agent.collect_policy,\n",
    "    observers=[replay_buffer_observer] + train_metrics,\n",
    "    num_steps=update_period\n",
    ")"
   ]
  },
  {
   "cell_type": "code",
   "execution_count": 8,
   "metadata": {},
   "outputs": [
    {
     "name": "stdout",
     "output_type": "stream",
     "text": [
      "250000/250000"
     ]
    }
   ],
   "source": [
    "from tf_agents.policies.random_tf_policy import RandomTFPolicy\n",
    "\n",
    "\n",
    "initial_collect_policy = RandomTFPolicy(\n",
    "    env.time_step_spec(),\n",
    "    env.action_spec()\n",
    ")\n",
    "\n",
    "init_driver = DynamicStepDriver(\n",
    "    env,\n",
    "    initial_collect_policy,\n",
    "    observers=[replay_buffer.add_batch, ShowProgress(buffer_size//4)],\n",
    "    num_steps=buffer_size//4\n",
    ")\n",
    "\n",
    "final_time_step, final_policy_state = init_driver.run()"
   ]
  },
  {
   "cell_type": "code",
   "execution_count": 9,
   "metadata": {},
   "outputs": [],
   "source": [
    "from tf_agents.utils.common import function\n",
    "\n",
    "\n",
    "collect_driver.run = function(collect_driver.run)\n",
    "agent.train = function(agent.train)"
   ]
  },
  {
   "cell_type": "code",
   "execution_count": 10,
   "metadata": {},
   "outputs": [],
   "source": [
    "def train_agent(n_iterations):\n",
    "    best_average_return = 0\n",
    "\n",
    "    time_step = None\n",
    "    policy_state = agent.collect_policy.get_initial_state(env.batch_size)\n",
    "\n",
    "    iterator = iter(dataset)\n",
    "    for iteration in range(n_iterations):\n",
    "        time_step, policy_state = collect_driver.run(time_step, policy_state)\n",
    "        trajectories, buffer_info = next(iterator)\n",
    "        \n",
    "        train_loss = agent.train(trajectories)\n",
    "\n",
    "        print(\"\\r{} loss:{:.5f}\".format(iteration, train_loss.loss.numpy()), end=\"\")\n",
    "\n",
    "        if iteration % (n_iterations//1000) == 0:\n",
    "            log_metrics(train_metrics)\n",
    "\n",
    "        if train_metrics[2].result() > best_average_return:\n",
    "            best_average_return = train_metrics[2].result()\n",
    "            print(f\"Saving best model with: Average Return of {best_average_return} in iters of {iteration}\")\n",
    "            tf.saved_model.save(agent._q_network, f\"models/tf-agents/logs/Snake DQN TF-Agents ({n_iterations} iters) with rwd#{best_average_return}\")\n",
    "\n",
    "    log_metrics(train_metrics)\n",
    "    tf.saved_model.save(agent._q_network, f\"models/tf-agents/Snake DQN TF-Agents ({n_iterations} iters)\")"
   ]
  },
  {
   "cell_type": "code",
   "execution_count": 11,
   "metadata": {},
   "outputs": [
    {
     "name": "stdout",
     "output_type": "stream",
     "text": [
      "WARNING:tensorflow:From c:\\Users\\Hosein\\anaconda3\\envs\\tf_env\\lib\\site-packages\\tensorflow\\python\\util\\dispatch.py:1176: calling foldr_v2 (from tensorflow.python.ops.functional_ops) with back_prop=False is deprecated and will be removed in a future version.\n",
      "Instructions for updating:\n",
      "back_prop=False is deprecated. Consider using tf.stop_gradient instead.\n",
      "Instead of:\n",
      "results = tf.foldr(fn, elems, back_prop=False)\n",
      "Use:\n",
      "results = tf.nest.map_structure(tf.stop_gradient, tf.foldr(fn, elems))\n"
     ]
    },
    {
     "name": "stderr",
     "output_type": "stream",
     "text": [
      "WARNING:tensorflow:From c:\\Users\\Hosein\\anaconda3\\envs\\tf_env\\lib\\site-packages\\tensorflow\\python\\util\\dispatch.py:1176: calling foldr_v2 (from tensorflow.python.ops.functional_ops) with back_prop=False is deprecated and will be removed in a future version.\n",
      "Instructions for updating:\n",
      "back_prop=False is deprecated. Consider using tf.stop_gradient instead.\n",
      "Instead of:\n",
      "results = tf.foldr(fn, elems, back_prop=False)\n",
      "Use:\n",
      "results = tf.nest.map_structure(tf.stop_gradient, tf.foldr(fn, elems))\n",
      "INFO:absl: \n",
      "\t\t NumberOfEpisodes = 0\n",
      "\t\t EnvironmentSteps = 10\n",
      "\t\t AverageReturn = 0.0\n",
      "\t\t AverageEpisodeLength = 0.0\n"
     ]
    },
    {
     "name": "stdout",
     "output_type": "stream",
     "text": [
      "4999 loss:0.45013"
     ]
    },
    {
     "name": "stderr",
     "output_type": "stream",
     "text": [
      "INFO:absl: \n",
      "\t\t NumberOfEpisodes = 138\n",
      "\t\t EnvironmentSteps = 50010\n",
      "\t\t AverageReturn = -315.5895080566406\n",
      "\t\t AverageEpisodeLength = 395.79998779296875\n"
     ]
    },
    {
     "name": "stdout",
     "output_type": "stream",
     "text": [
      "9998 loss:1.05939"
     ]
    },
    {
     "name": "stderr",
     "output_type": "stream",
     "text": [
      "INFO:absl: \n",
      "\t\t NumberOfEpisodes = 271\n",
      "\t\t EnvironmentSteps = 100010\n",
      "\t\t AverageReturn = -234.10958862304688\n",
      "\t\t AverageEpisodeLength = 325.5\n"
     ]
    },
    {
     "name": "stdout",
     "output_type": "stream",
     "text": [
      "14995 loss:0.90009"
     ]
    },
    {
     "name": "stderr",
     "output_type": "stream",
     "text": [
      "INFO:absl: \n",
      "\t\t NumberOfEpisodes = 399\n",
      "\t\t EnvironmentSteps = 150010\n",
      "\t\t AverageReturn = -294.71002197265625\n",
      "\t\t AverageEpisodeLength = 358.8999938964844\n"
     ]
    },
    {
     "name": "stdout",
     "output_type": "stream",
     "text": [
      "20000 loss:0.90225"
     ]
    },
    {
     "name": "stderr",
     "output_type": "stream",
     "text": [
      "INFO:absl: \n",
      "\t\t NumberOfEpisodes = 522\n",
      "\t\t EnvironmentSteps = 200010\n",
      "\t\t AverageReturn = -323.2605895996094\n",
      "\t\t AverageEpisodeLength = 370.3999938964844\n"
     ]
    },
    {
     "name": "stdout",
     "output_type": "stream",
     "text": [
      "25000 loss:0.45416"
     ]
    },
    {
     "name": "stderr",
     "output_type": "stream",
     "text": [
      "INFO:absl: \n",
      "\t\t NumberOfEpisodes = 661\n",
      "\t\t EnvironmentSteps = 250010\n",
      "\t\t AverageReturn = -280.0398864746094\n",
      "\t\t AverageEpisodeLength = 331.6000061035156\n"
     ]
    },
    {
     "name": "stdout",
     "output_type": "stream",
     "text": [
      "29998 loss:0.74252"
     ]
    },
    {
     "name": "stderr",
     "output_type": "stream",
     "text": [
      "INFO:absl: \n",
      "\t\t NumberOfEpisodes = 794\n",
      "\t\t EnvironmentSteps = 300010\n",
      "\t\t AverageReturn = -264.5798034667969\n",
      "\t\t AverageEpisodeLength = 313.79998779296875\n"
     ]
    },
    {
     "name": "stdout",
     "output_type": "stream",
     "text": [
      "34998 loss:1.04908"
     ]
    },
    {
     "name": "stderr",
     "output_type": "stream",
     "text": [
      "INFO:absl: \n",
      "\t\t NumberOfEpisodes = 918\n",
      "\t\t EnvironmentSteps = 350010\n",
      "\t\t AverageReturn = -424.1109313964844\n",
      "\t\t AverageEpisodeLength = 515.5999755859375\n"
     ]
    },
    {
     "name": "stdout",
     "output_type": "stream",
     "text": [
      "39998 loss:0.75457"
     ]
    },
    {
     "name": "stderr",
     "output_type": "stream",
     "text": [
      "INFO:absl: \n",
      "\t\t NumberOfEpisodes = 1058\n",
      "\t\t EnvironmentSteps = 400010\n",
      "\t\t AverageReturn = -227.77963256835938\n",
      "\t\t AverageEpisodeLength = 336.5\n"
     ]
    },
    {
     "name": "stdout",
     "output_type": "stream",
     "text": [
      "44997 loss:0.44660"
     ]
    },
    {
     "name": "stderr",
     "output_type": "stream",
     "text": [
      "INFO:absl: \n",
      "\t\t NumberOfEpisodes = 1180\n",
      "\t\t EnvironmentSteps = 450010\n",
      "\t\t AverageReturn = -391.54034423828125\n",
      "\t\t AverageEpisodeLength = 509.0\n"
     ]
    },
    {
     "name": "stdout",
     "output_type": "stream",
     "text": [
      "49997 loss:0.73099"
     ]
    },
    {
     "name": "stderr",
     "output_type": "stream",
     "text": [
      "INFO:absl: \n",
      "\t\t NumberOfEpisodes = 1310\n",
      "\t\t EnvironmentSteps = 500010\n",
      "\t\t AverageReturn = -356.4299621582031\n",
      "\t\t AverageEpisodeLength = 412.70001220703125\n"
     ]
    },
    {
     "name": "stdout",
     "output_type": "stream",
     "text": [
      "54996 loss:0.89279"
     ]
    },
    {
     "name": "stderr",
     "output_type": "stream",
     "text": [
      "INFO:absl: \n",
      "\t\t NumberOfEpisodes = 1449\n",
      "\t\t EnvironmentSteps = 550010\n",
      "\t\t AverageReturn = -160.9098663330078\n",
      "\t\t AverageEpisodeLength = 258.6000061035156\n"
     ]
    },
    {
     "name": "stdout",
     "output_type": "stream",
     "text": [
      "60000 loss:0.60291"
     ]
    },
    {
     "name": "stderr",
     "output_type": "stream",
     "text": [
      "INFO:absl: \n",
      "\t\t NumberOfEpisodes = 1589\n",
      "\t\t EnvironmentSteps = 600010\n",
      "\t\t AverageReturn = -268.09954833984375\n",
      "\t\t AverageEpisodeLength = 369.8999938964844\n"
     ]
    },
    {
     "name": "stdout",
     "output_type": "stream",
     "text": [
      "64998 loss:1.35089"
     ]
    },
    {
     "name": "stderr",
     "output_type": "stream",
     "text": [
      "INFO:absl: \n",
      "\t\t NumberOfEpisodes = 1724\n",
      "\t\t EnvironmentSteps = 650010\n",
      "\t\t AverageReturn = -192.39974975585938\n",
      "\t\t AverageEpisodeLength = 277.79998779296875\n"
     ]
    },
    {
     "name": "stdout",
     "output_type": "stream",
     "text": [
      "70000 loss:0.60685"
     ]
    },
    {
     "name": "stderr",
     "output_type": "stream",
     "text": [
      "INFO:absl: \n",
      "\t\t NumberOfEpisodes = 1850\n",
      "\t\t EnvironmentSteps = 700010\n",
      "\t\t AverageReturn = -336.020263671875\n",
      "\t\t AverageEpisodeLength = 417.0\n"
     ]
    },
    {
     "name": "stdout",
     "output_type": "stream",
     "text": [
      "74998 loss:0.46386"
     ]
    },
    {
     "name": "stderr",
     "output_type": "stream",
     "text": [
      "INFO:absl: \n",
      "\t\t NumberOfEpisodes = 1978\n",
      "\t\t EnvironmentSteps = 750010\n",
      "\t\t AverageReturn = -268.47027587890625\n",
      "\t\t AverageEpisodeLength = 387.29998779296875\n"
     ]
    },
    {
     "name": "stdout",
     "output_type": "stream",
     "text": [
      "79997 loss:0.45176"
     ]
    },
    {
     "name": "stderr",
     "output_type": "stream",
     "text": [
      "INFO:absl: \n",
      "\t\t NumberOfEpisodes = 2117\n",
      "\t\t EnvironmentSteps = 800010\n",
      "\t\t AverageReturn = -205.1697998046875\n",
      "\t\t AverageEpisodeLength = 329.20001220703125\n"
     ]
    },
    {
     "name": "stdout",
     "output_type": "stream",
     "text": [
      "84996 loss:1.33308"
     ]
    },
    {
     "name": "stderr",
     "output_type": "stream",
     "text": [
      "INFO:absl: \n",
      "\t\t NumberOfEpisodes = 2253\n",
      "\t\t EnvironmentSteps = 850010\n",
      "\t\t AverageReturn = -196.8495635986328\n",
      "\t\t AverageEpisodeLength = 293.79998779296875\n"
     ]
    },
    {
     "name": "stdout",
     "output_type": "stream",
     "text": [
      "89996 loss:1.04686"
     ]
    },
    {
     "name": "stderr",
     "output_type": "stream",
     "text": [
      "INFO:absl: \n",
      "\t\t NumberOfEpisodes = 2374\n",
      "\t\t EnvironmentSteps = 900010\n",
      "\t\t AverageReturn = -327.5998840332031\n",
      "\t\t AverageEpisodeLength = 479.8999938964844\n"
     ]
    },
    {
     "name": "stdout",
     "output_type": "stream",
     "text": [
      "94997 loss:0.89337"
     ]
    },
    {
     "name": "stderr",
     "output_type": "stream",
     "text": [
      "INFO:absl: \n",
      "\t\t NumberOfEpisodes = 2501\n",
      "\t\t EnvironmentSteps = 950010\n",
      "\t\t AverageReturn = -253.4294891357422\n",
      "\t\t AverageEpisodeLength = 417.70001220703125\n"
     ]
    },
    {
     "name": "stdout",
     "output_type": "stream",
     "text": [
      "99998 loss:0.15334"
     ]
    },
    {
     "name": "stderr",
     "output_type": "stream",
     "text": [
      "INFO:absl: \n",
      "\t\t NumberOfEpisodes = 2638\n",
      "\t\t EnvironmentSteps = 1000010\n",
      "\t\t AverageReturn = -158.35995483398438\n",
      "\t\t AverageEpisodeLength = 262.70001220703125\n"
     ]
    },
    {
     "name": "stdout",
     "output_type": "stream",
     "text": [
      "104997 loss:0.89357"
     ]
    },
    {
     "name": "stderr",
     "output_type": "stream",
     "text": [
      "INFO:absl: \n",
      "\t\t NumberOfEpisodes = 2764\n",
      "\t\t EnvironmentSteps = 1050010\n",
      "\t\t AverageReturn = -147.1097412109375\n",
      "\t\t AverageEpisodeLength = 252.6999969482422\n"
     ]
    },
    {
     "name": "stdout",
     "output_type": "stream",
     "text": [
      "109997 loss:0.74286"
     ]
    },
    {
     "name": "stderr",
     "output_type": "stream",
     "text": [
      "INFO:absl: \n",
      "\t\t NumberOfEpisodes = 2891\n",
      "\t\t EnvironmentSteps = 1100010\n",
      "\t\t AverageReturn = -252.47958374023438\n",
      "\t\t AverageEpisodeLength = 386.8999938964844\n"
     ]
    },
    {
     "name": "stdout",
     "output_type": "stream",
     "text": [
      "114998 loss:0.74605"
     ]
    },
    {
     "name": "stderr",
     "output_type": "stream",
     "text": [
      "INFO:absl: \n",
      "\t\t NumberOfEpisodes = 3014\n",
      "\t\t EnvironmentSteps = 1150010\n",
      "\t\t AverageReturn = -190.419921875\n",
      "\t\t AverageEpisodeLength = 345.1000061035156\n"
     ]
    },
    {
     "name": "stdout",
     "output_type": "stream",
     "text": [
      "119997 loss:0.15958"
     ]
    },
    {
     "name": "stderr",
     "output_type": "stream",
     "text": [
      "INFO:absl: \n",
      "\t\t NumberOfEpisodes = 3139\n",
      "\t\t EnvironmentSteps = 1200010\n",
      "\t\t AverageReturn = -254.4198455810547\n",
      "\t\t AverageEpisodeLength = 433.70001220703125\n"
     ]
    },
    {
     "name": "stdout",
     "output_type": "stream",
     "text": [
      "124999 loss:0.75955"
     ]
    },
    {
     "name": "stderr",
     "output_type": "stream",
     "text": [
      "INFO:absl: \n",
      "\t\t NumberOfEpisodes = 3273\n",
      "\t\t EnvironmentSteps = 1250010\n",
      "\t\t AverageReturn = -332.12103271484375\n",
      "\t\t AverageEpisodeLength = 533.2999877929688\n"
     ]
    },
    {
     "name": "stdout",
     "output_type": "stream",
     "text": [
      "129996 loss:1.33991"
     ]
    },
    {
     "name": "stderr",
     "output_type": "stream",
     "text": [
      "INFO:absl: \n",
      "\t\t NumberOfEpisodes = 3393\n",
      "\t\t EnvironmentSteps = 1300010\n",
      "\t\t AverageReturn = -293.5908203125\n",
      "\t\t AverageEpisodeLength = 447.8999938964844\n"
     ]
    },
    {
     "name": "stdout",
     "output_type": "stream",
     "text": [
      "134999 loss:0.59962"
     ]
    },
    {
     "name": "stderr",
     "output_type": "stream",
     "text": [
      "INFO:absl: \n",
      "\t\t NumberOfEpisodes = 3515\n",
      "\t\t EnvironmentSteps = 1350010\n",
      "\t\t AverageReturn = -162.10968017578125\n",
      "\t\t AverageEpisodeLength = 356.8999938964844\n"
     ]
    },
    {
     "name": "stdout",
     "output_type": "stream",
     "text": [
      "139997 loss:0.74831"
     ]
    },
    {
     "name": "stderr",
     "output_type": "stream",
     "text": [
      "INFO:absl: \n",
      "\t\t NumberOfEpisodes = 3651\n",
      "\t\t EnvironmentSteps = 1400010\n",
      "\t\t AverageReturn = -229.6694793701172\n",
      "\t\t AverageEpisodeLength = 415.70001220703125\n"
     ]
    },
    {
     "name": "stdout",
     "output_type": "stream",
     "text": [
      "144995 loss:1.45971"
     ]
    },
    {
     "name": "stderr",
     "output_type": "stream",
     "text": [
      "INFO:absl: \n",
      "\t\t NumberOfEpisodes = 3770\n",
      "\t\t EnvironmentSteps = 1450010\n",
      "\t\t AverageReturn = -217.54931640625\n",
      "\t\t AverageEpisodeLength = 444.0\n"
     ]
    },
    {
     "name": "stdout",
     "output_type": "stream",
     "text": [
      "149995 loss:1.04579"
     ]
    },
    {
     "name": "stderr",
     "output_type": "stream",
     "text": [
      "INFO:absl: \n",
      "\t\t NumberOfEpisodes = 3889\n",
      "\t\t EnvironmentSteps = 1500010\n",
      "\t\t AverageReturn = -321.4305725097656\n",
      "\t\t AverageEpisodeLength = 495.8999938964844\n"
     ]
    },
    {
     "name": "stdout",
     "output_type": "stream",
     "text": [
      "154999 loss:0.60186"
     ]
    },
    {
     "name": "stderr",
     "output_type": "stream",
     "text": [
      "INFO:absl: \n",
      "\t\t NumberOfEpisodes = 4009\n",
      "\t\t EnvironmentSteps = 1550010\n",
      "\t\t AverageReturn = -282.5997009277344\n",
      "\t\t AverageEpisodeLength = 522.2999877929688\n"
     ]
    },
    {
     "name": "stdout",
     "output_type": "stream",
     "text": [
      "159996 loss:0.30760"
     ]
    },
    {
     "name": "stderr",
     "output_type": "stream",
     "text": [
      "INFO:absl: \n",
      "\t\t NumberOfEpisodes = 4125\n",
      "\t\t EnvironmentSteps = 1600010\n",
      "\t\t AverageReturn = -154.29953002929688\n",
      "\t\t AverageEpisodeLength = 355.6000061035156\n"
     ]
    },
    {
     "name": "stdout",
     "output_type": "stream",
     "text": [
      "164998 loss:0.88539"
     ]
    },
    {
     "name": "stderr",
     "output_type": "stream",
     "text": [
      "INFO:absl: \n",
      "\t\t NumberOfEpisodes = 4242\n",
      "\t\t EnvironmentSteps = 1650010\n",
      "\t\t AverageReturn = -302.7800598144531\n",
      "\t\t AverageEpisodeLength = 606.4000244140625\n"
     ]
    },
    {
     "name": "stdout",
     "output_type": "stream",
     "text": [
      "169997 loss:0.60161"
     ]
    },
    {
     "name": "stderr",
     "output_type": "stream",
     "text": [
      "INFO:absl: \n",
      "\t\t NumberOfEpisodes = 4361\n",
      "\t\t EnvironmentSteps = 1700010\n",
      "\t\t AverageReturn = -233.52975463867188\n",
      "\t\t AverageEpisodeLength = 374.1000061035156\n"
     ]
    },
    {
     "name": "stdout",
     "output_type": "stream",
     "text": [
      "174999 loss:0.45455"
     ]
    },
    {
     "name": "stderr",
     "output_type": "stream",
     "text": [
      "INFO:absl: \n",
      "\t\t NumberOfEpisodes = 4484\n",
      "\t\t EnvironmentSteps = 1750010\n",
      "\t\t AverageReturn = -189.41954040527344\n",
      "\t\t AverageEpisodeLength = 433.0\n"
     ]
    },
    {
     "name": "stdout",
     "output_type": "stream",
     "text": [
      "179998 loss:0.60480"
     ]
    },
    {
     "name": "stderr",
     "output_type": "stream",
     "text": [
      "INFO:absl: \n",
      "\t\t NumberOfEpisodes = 4609\n",
      "\t\t EnvironmentSteps = 1800010\n",
      "\t\t AverageReturn = -230.4996795654297\n",
      "\t\t AverageEpisodeLength = 450.79998779296875\n"
     ]
    },
    {
     "name": "stdout",
     "output_type": "stream",
     "text": [
      "184999 loss:0.30958"
     ]
    },
    {
     "name": "stderr",
     "output_type": "stream",
     "text": [
      "INFO:absl: \n",
      "\t\t NumberOfEpisodes = 4730\n",
      "\t\t EnvironmentSteps = 1850010\n",
      "\t\t AverageReturn = -206.6894073486328\n",
      "\t\t AverageEpisodeLength = 413.3999938964844\n"
     ]
    },
    {
     "name": "stdout",
     "output_type": "stream",
     "text": [
      "189997 loss:0.45050"
     ]
    },
    {
     "name": "stderr",
     "output_type": "stream",
     "text": [
      "INFO:absl: \n",
      "\t\t NumberOfEpisodes = 4836\n",
      "\t\t EnvironmentSteps = 1900010\n",
      "\t\t AverageReturn = -232.7694549560547\n",
      "\t\t AverageEpisodeLength = 511.70001220703125\n"
     ]
    },
    {
     "name": "stdout",
     "output_type": "stream",
     "text": [
      "194999 loss:1.31801"
     ]
    },
    {
     "name": "stderr",
     "output_type": "stream",
     "text": [
      "INFO:absl: \n",
      "\t\t NumberOfEpisodes = 4950\n",
      "\t\t EnvironmentSteps = 1950010\n",
      "\t\t AverageReturn = -194.45936584472656\n",
      "\t\t AverageEpisodeLength = 422.70001220703125\n"
     ]
    },
    {
     "name": "stdout",
     "output_type": "stream",
     "text": [
      "199998 loss:0.45941"
     ]
    },
    {
     "name": "stderr",
     "output_type": "stream",
     "text": [
      "INFO:absl: \n",
      "\t\t NumberOfEpisodes = 5074\n",
      "\t\t EnvironmentSteps = 2000010\n",
      "\t\t AverageReturn = -209.48934936523438\n",
      "\t\t AverageEpisodeLength = 448.79998779296875\n"
     ]
    },
    {
     "name": "stdout",
     "output_type": "stream",
     "text": [
      "205000 loss:0.29559"
     ]
    },
    {
     "name": "stderr",
     "output_type": "stream",
     "text": [
      "INFO:absl: \n",
      "\t\t NumberOfEpisodes = 5193\n",
      "\t\t EnvironmentSteps = 2050010\n",
      "\t\t AverageReturn = -297.67010498046875\n",
      "\t\t AverageEpisodeLength = 484.6000061035156\n"
     ]
    },
    {
     "name": "stdout",
     "output_type": "stream",
     "text": [
      "209997 loss:0.90197"
     ]
    },
    {
     "name": "stderr",
     "output_type": "stream",
     "text": [
      "INFO:absl: \n",
      "\t\t NumberOfEpisodes = 5306\n",
      "\t\t EnvironmentSteps = 2100010\n",
      "\t\t AverageReturn = -212.810546875\n",
      "\t\t AverageEpisodeLength = 479.1000061035156\n"
     ]
    },
    {
     "name": "stdout",
     "output_type": "stream",
     "text": [
      "214998 loss:0.16178"
     ]
    },
    {
     "name": "stderr",
     "output_type": "stream",
     "text": [
      "INFO:absl: \n",
      "\t\t NumberOfEpisodes = 5406\n",
      "\t\t EnvironmentSteps = 2150010\n",
      "\t\t AverageReturn = -251.4903106689453\n",
      "\t\t AverageEpisodeLength = 572.2000122070312\n"
     ]
    },
    {
     "name": "stdout",
     "output_type": "stream",
     "text": [
      "219996 loss:0.30651"
     ]
    },
    {
     "name": "stderr",
     "output_type": "stream",
     "text": [
      "INFO:absl: \n",
      "\t\t NumberOfEpisodes = 5510\n",
      "\t\t EnvironmentSteps = 2200010\n",
      "\t\t AverageReturn = -257.3700256347656\n",
      "\t\t AverageEpisodeLength = 530.5\n"
     ]
    },
    {
     "name": "stdout",
     "output_type": "stream",
     "text": [
      "224999 loss:0.60536"
     ]
    },
    {
     "name": "stderr",
     "output_type": "stream",
     "text": [
      "INFO:absl: \n",
      "\t\t NumberOfEpisodes = 5612\n",
      "\t\t EnvironmentSteps = 2250010\n",
      "\t\t AverageReturn = -267.21002197265625\n",
      "\t\t AverageEpisodeLength = 518.2999877929688\n"
     ]
    },
    {
     "name": "stdout",
     "output_type": "stream",
     "text": [
      "229999 loss:0.45973"
     ]
    },
    {
     "name": "stderr",
     "output_type": "stream",
     "text": [
      "INFO:absl: \n",
      "\t\t NumberOfEpisodes = 5711\n",
      "\t\t EnvironmentSteps = 2300010\n",
      "\t\t AverageReturn = -196.3594207763672\n",
      "\t\t AverageEpisodeLength = 488.5\n"
     ]
    },
    {
     "name": "stdout",
     "output_type": "stream",
     "text": [
      "234998 loss:0.30912"
     ]
    },
    {
     "name": "stderr",
     "output_type": "stream",
     "text": [
      "INFO:absl: \n",
      "\t\t NumberOfEpisodes = 5811\n",
      "\t\t EnvironmentSteps = 2350010\n",
      "\t\t AverageReturn = -265.7491149902344\n",
      "\t\t AverageEpisodeLength = 647.4000244140625\n"
     ]
    },
    {
     "name": "stdout",
     "output_type": "stream",
     "text": [
      "240000 loss:0.75824"
     ]
    },
    {
     "name": "stderr",
     "output_type": "stream",
     "text": [
      "INFO:absl: \n",
      "\t\t NumberOfEpisodes = 5903\n",
      "\t\t EnvironmentSteps = 2400010\n",
      "\t\t AverageReturn = -200.4195556640625\n",
      "\t\t AverageEpisodeLength = 482.70001220703125\n"
     ]
    },
    {
     "name": "stdout",
     "output_type": "stream",
     "text": [
      "244996 loss:1.04235"
     ]
    },
    {
     "name": "stderr",
     "output_type": "stream",
     "text": [
      "INFO:absl: \n",
      "\t\t NumberOfEpisodes = 6009\n",
      "\t\t EnvironmentSteps = 2450010\n",
      "\t\t AverageReturn = -146.23965454101562\n",
      "\t\t AverageEpisodeLength = 376.3999938964844\n"
     ]
    },
    {
     "name": "stdout",
     "output_type": "stream",
     "text": [
      "250000 loss:0.73391"
     ]
    },
    {
     "name": "stderr",
     "output_type": "stream",
     "text": [
      "INFO:absl: \n",
      "\t\t NumberOfEpisodes = 6101\n",
      "\t\t EnvironmentSteps = 2500010\n",
      "\t\t AverageReturn = -227.43954467773438\n",
      "\t\t AverageEpisodeLength = 531.5999755859375\n"
     ]
    },
    {
     "name": "stdout",
     "output_type": "stream",
     "text": [
      "254997 loss:0.15970"
     ]
    },
    {
     "name": "stderr",
     "output_type": "stream",
     "text": [
      "INFO:absl: \n",
      "\t\t NumberOfEpisodes = 6192\n",
      "\t\t EnvironmentSteps = 2550010\n",
      "\t\t AverageReturn = -328.01953125\n",
      "\t\t AverageEpisodeLength = 712.7999877929688\n"
     ]
    },
    {
     "name": "stdout",
     "output_type": "stream",
     "text": [
      "259997 loss:1.04636"
     ]
    },
    {
     "name": "stderr",
     "output_type": "stream",
     "text": [
      "INFO:absl: \n",
      "\t\t NumberOfEpisodes = 6286\n",
      "\t\t EnvironmentSteps = 2600010\n",
      "\t\t AverageReturn = -274.08990478515625\n",
      "\t\t AverageEpisodeLength = 614.2000122070312\n"
     ]
    },
    {
     "name": "stdout",
     "output_type": "stream",
     "text": [
      "264998 loss:0.60858"
     ]
    },
    {
     "name": "stderr",
     "output_type": "stream",
     "text": [
      "INFO:absl: \n",
      "\t\t NumberOfEpisodes = 6372\n",
      "\t\t EnvironmentSteps = 2650010\n",
      "\t\t AverageReturn = -128.3494873046875\n",
      "\t\t AverageEpisodeLength = 461.1000061035156\n"
     ]
    },
    {
     "name": "stdout",
     "output_type": "stream",
     "text": [
      "269999 loss:0.16060"
     ]
    },
    {
     "name": "stderr",
     "output_type": "stream",
     "text": [
      "INFO:absl: \n",
      "\t\t NumberOfEpisodes = 6459\n",
      "\t\t EnvironmentSteps = 2700010\n",
      "\t\t AverageReturn = -228.4298553466797\n",
      "\t\t AverageEpisodeLength = 538.4000244140625\n"
     ]
    },
    {
     "name": "stdout",
     "output_type": "stream",
     "text": [
      "274998 loss:0.45542"
     ]
    },
    {
     "name": "stderr",
     "output_type": "stream",
     "text": [
      "INFO:absl: \n",
      "\t\t NumberOfEpisodes = 6546\n",
      "\t\t EnvironmentSteps = 2750010\n",
      "\t\t AverageReturn = -195.6701202392578\n",
      "\t\t AverageEpisodeLength = 522.0999755859375\n"
     ]
    },
    {
     "name": "stdout",
     "output_type": "stream",
     "text": [
      "279998 loss:0.75063"
     ]
    },
    {
     "name": "stderr",
     "output_type": "stream",
     "text": [
      "INFO:absl: \n",
      "\t\t NumberOfEpisodes = 6637\n",
      "\t\t EnvironmentSteps = 2800010\n",
      "\t\t AverageReturn = -178.35000610351562\n",
      "\t\t AverageEpisodeLength = 537.0\n"
     ]
    },
    {
     "name": "stdout",
     "output_type": "stream",
     "text": [
      "284999 loss:0.45280"
     ]
    },
    {
     "name": "stderr",
     "output_type": "stream",
     "text": [
      "INFO:absl: \n",
      "\t\t NumberOfEpisodes = 6723\n",
      "\t\t EnvironmentSteps = 2850010\n",
      "\t\t AverageReturn = -221.5706787109375\n",
      "\t\t AverageEpisodeLength = 544.9000244140625\n"
     ]
    },
    {
     "name": "stdout",
     "output_type": "stream",
     "text": [
      "289997 loss:0.30515"
     ]
    },
    {
     "name": "stderr",
     "output_type": "stream",
     "text": [
      "INFO:absl: \n",
      "\t\t NumberOfEpisodes = 6815\n",
      "\t\t EnvironmentSteps = 2900010\n",
      "\t\t AverageReturn = -144.25018310546875\n",
      "\t\t AverageEpisodeLength = 469.1000061035156\n"
     ]
    },
    {
     "name": "stdout",
     "output_type": "stream",
     "text": [
      "294997 loss:0.44471"
     ]
    },
    {
     "name": "stderr",
     "output_type": "stream",
     "text": [
      "INFO:absl: \n",
      "\t\t NumberOfEpisodes = 6888\n",
      "\t\t EnvironmentSteps = 2950010\n",
      "\t\t AverageReturn = -211.57992553710938\n",
      "\t\t AverageEpisodeLength = 610.2000122070312\n"
     ]
    },
    {
     "name": "stdout",
     "output_type": "stream",
     "text": [
      "299996 loss:0.45076"
     ]
    },
    {
     "name": "stderr",
     "output_type": "stream",
     "text": [
      "INFO:absl: \n",
      "\t\t NumberOfEpisodes = 6966\n",
      "\t\t EnvironmentSteps = 3000010\n",
      "\t\t AverageReturn = -209.77023315429688\n",
      "\t\t AverageEpisodeLength = 607.7999877929688\n"
     ]
    },
    {
     "name": "stdout",
     "output_type": "stream",
     "text": [
      "304996 loss:0.01582"
     ]
    },
    {
     "name": "stderr",
     "output_type": "stream",
     "text": [
      "INFO:absl: \n",
      "\t\t NumberOfEpisodes = 7041\n",
      "\t\t EnvironmentSteps = 3050010\n",
      "\t\t AverageReturn = -234.0299835205078\n",
      "\t\t AverageEpisodeLength = 638.2000122070312\n"
     ]
    },
    {
     "name": "stdout",
     "output_type": "stream",
     "text": [
      "309997 loss:0.30241"
     ]
    },
    {
     "name": "stderr",
     "output_type": "stream",
     "text": [
      "INFO:absl: \n",
      "\t\t NumberOfEpisodes = 7121\n",
      "\t\t EnvironmentSteps = 3100010\n",
      "\t\t AverageReturn = -248.5295867919922\n",
      "\t\t AverageEpisodeLength = 649.5\n"
     ]
    },
    {
     "name": "stdout",
     "output_type": "stream",
     "text": [
      "314997 loss:0.59737"
     ]
    },
    {
     "name": "stderr",
     "output_type": "stream",
     "text": [
      "INFO:absl: \n",
      "\t\t NumberOfEpisodes = 7195\n",
      "\t\t EnvironmentSteps = 3150010\n",
      "\t\t AverageReturn = -227.0993194580078\n",
      "\t\t AverageEpisodeLength = 635.4000244140625\n"
     ]
    },
    {
     "name": "stdout",
     "output_type": "stream",
     "text": [
      "319999 loss:0.16609"
     ]
    },
    {
     "name": "stderr",
     "output_type": "stream",
     "text": [
      "INFO:absl: \n",
      "\t\t NumberOfEpisodes = 7272\n",
      "\t\t EnvironmentSteps = 3200010\n",
      "\t\t AverageReturn = -190.68994140625\n",
      "\t\t AverageEpisodeLength = 679.5\n"
     ]
    },
    {
     "name": "stdout",
     "output_type": "stream",
     "text": [
      "324996 loss:0.61209"
     ]
    },
    {
     "name": "stderr",
     "output_type": "stream",
     "text": [
      "INFO:absl: \n",
      "\t\t NumberOfEpisodes = 7341\n",
      "\t\t EnvironmentSteps = 3250010\n",
      "\t\t AverageReturn = -161.579833984375\n",
      "\t\t AverageEpisodeLength = 610.2000122070312\n"
     ]
    },
    {
     "name": "stdout",
     "output_type": "stream",
     "text": [
      "329996 loss:0.16209"
     ]
    },
    {
     "name": "stderr",
     "output_type": "stream",
     "text": [
      "INFO:absl: \n",
      "\t\t NumberOfEpisodes = 7413\n",
      "\t\t EnvironmentSteps = 3300010\n",
      "\t\t AverageReturn = -135.1595001220703\n",
      "\t\t AverageEpisodeLength = 550.4000244140625\n"
     ]
    },
    {
     "name": "stdout",
     "output_type": "stream",
     "text": [
      "334998 loss:0.45390"
     ]
    },
    {
     "name": "stderr",
     "output_type": "stream",
     "text": [
      "INFO:absl: \n",
      "\t\t NumberOfEpisodes = 7482\n",
      "\t\t EnvironmentSteps = 3350010\n",
      "\t\t AverageReturn = -214.5096435546875\n",
      "\t\t AverageEpisodeLength = 694.5999755859375\n"
     ]
    },
    {
     "name": "stdout",
     "output_type": "stream",
     "text": [
      "339997 loss:0.45106"
     ]
    },
    {
     "name": "stderr",
     "output_type": "stream",
     "text": [
      "INFO:absl: \n",
      "\t\t NumberOfEpisodes = 7551\n",
      "\t\t EnvironmentSteps = 3400010\n",
      "\t\t AverageReturn = -260.9894104003906\n",
      "\t\t AverageEpisodeLength = 703.9000244140625\n"
     ]
    },
    {
     "name": "stdout",
     "output_type": "stream",
     "text": [
      "345000 loss:0.45862"
     ]
    },
    {
     "name": "stderr",
     "output_type": "stream",
     "text": [
      "INFO:absl: \n",
      "\t\t NumberOfEpisodes = 7618\n",
      "\t\t EnvironmentSteps = 3450010\n",
      "\t\t AverageReturn = -275.3587951660156\n",
      "\t\t AverageEpisodeLength = 923.7000122070312\n"
     ]
    },
    {
     "name": "stdout",
     "output_type": "stream",
     "text": [
      "349997 loss:0.15139"
     ]
    },
    {
     "name": "stderr",
     "output_type": "stream",
     "text": [
      "INFO:absl: \n",
      "\t\t NumberOfEpisodes = 7686\n",
      "\t\t EnvironmentSteps = 3500010\n",
      "\t\t AverageReturn = -246.73941040039062\n",
      "\t\t AverageEpisodeLength = 717.5\n"
     ]
    },
    {
     "name": "stdout",
     "output_type": "stream",
     "text": [
      "354998 loss:0.45203"
     ]
    },
    {
     "name": "stderr",
     "output_type": "stream",
     "text": [
      "INFO:absl: \n",
      "\t\t NumberOfEpisodes = 7752\n",
      "\t\t EnvironmentSteps = 3550010\n",
      "\t\t AverageReturn = -174.7889404296875\n",
      "\t\t AverageEpisodeLength = 703.2999877929688\n"
     ]
    },
    {
     "name": "stdout",
     "output_type": "stream",
     "text": [
      "359998 loss:0.15728"
     ]
    },
    {
     "name": "stderr",
     "output_type": "stream",
     "text": [
      "INFO:absl: \n",
      "\t\t NumberOfEpisodes = 7812\n",
      "\t\t EnvironmentSteps = 3600010\n",
      "\t\t AverageReturn = -279.3794250488281\n",
      "\t\t AverageEpisodeLength = 831.0\n"
     ]
    },
    {
     "name": "stdout",
     "output_type": "stream",
     "text": [
      "364997 loss:0.72297"
     ]
    },
    {
     "name": "stderr",
     "output_type": "stream",
     "text": [
      "INFO:absl: \n",
      "\t\t NumberOfEpisodes = 7873\n",
      "\t\t EnvironmentSteps = 3650010\n",
      "\t\t AverageReturn = -224.3194580078125\n",
      "\t\t AverageEpisodeLength = 887.2999877929688\n"
     ]
    },
    {
     "name": "stdout",
     "output_type": "stream",
     "text": [
      "369998 loss:0.45142"
     ]
    },
    {
     "name": "stderr",
     "output_type": "stream",
     "text": [
      "INFO:absl: \n",
      "\t\t NumberOfEpisodes = 7936\n",
      "\t\t EnvironmentSteps = 3700010\n",
      "\t\t AverageReturn = -176.89938354492188\n",
      "\t\t AverageEpisodeLength = 853.2999877929688\n"
     ]
    },
    {
     "name": "stdout",
     "output_type": "stream",
     "text": [
      "374997 loss:0.60208"
     ]
    },
    {
     "name": "stderr",
     "output_type": "stream",
     "text": [
      "INFO:absl: \n",
      "\t\t NumberOfEpisodes = 7996\n",
      "\t\t EnvironmentSteps = 3750010\n",
      "\t\t AverageReturn = -208.71875\n",
      "\t\t AverageEpisodeLength = 824.5999755859375\n"
     ]
    },
    {
     "name": "stdout",
     "output_type": "stream",
     "text": [
      "379998 loss:0.44971"
     ]
    },
    {
     "name": "stderr",
     "output_type": "stream",
     "text": [
      "INFO:absl: \n",
      "\t\t NumberOfEpisodes = 8055\n",
      "\t\t EnvironmentSteps = 3800010\n",
      "\t\t AverageReturn = -217.1383819580078\n",
      "\t\t AverageEpisodeLength = 954.4000244140625\n"
     ]
    },
    {
     "name": "stdout",
     "output_type": "stream",
     "text": [
      "384997 loss:0.31005"
     ]
    },
    {
     "name": "stderr",
     "output_type": "stream",
     "text": [
      "INFO:absl: \n",
      "\t\t NumberOfEpisodes = 8110\n",
      "\t\t EnvironmentSteps = 3850010\n",
      "\t\t AverageReturn = -222.48873901367188\n",
      "\t\t AverageEpisodeLength = 912.0999755859375\n"
     ]
    },
    {
     "name": "stdout",
     "output_type": "stream",
     "text": [
      "389998 loss:0.15912"
     ]
    },
    {
     "name": "stderr",
     "output_type": "stream",
     "text": [
      "INFO:absl: \n",
      "\t\t NumberOfEpisodes = 8167\n",
      "\t\t EnvironmentSteps = 3900010\n",
      "\t\t AverageReturn = -194.76913452148438\n",
      "\t\t AverageEpisodeLength = 767.4000244140625\n"
     ]
    },
    {
     "name": "stdout",
     "output_type": "stream",
     "text": [
      "390671 loss:0.15823"
     ]
    },
    {
     "ename": "KeyboardInterrupt",
     "evalue": "",
     "output_type": "error",
     "traceback": [
      "\u001b[1;31m---------------------------------------------------------------------------\u001b[0m",
      "\u001b[1;31mKeyboardInterrupt\u001b[0m                         Traceback (most recent call last)",
      "Cell \u001b[1;32mIn[11], line 1\u001b[0m\n\u001b[1;32m----> 1\u001b[0m train_agent(n_iterations\u001b[39m=\u001b[39;49mtrain_iters)\n",
      "Cell \u001b[1;32mIn[10], line 9\u001b[0m, in \u001b[0;36mtrain_agent\u001b[1;34m(n_iterations)\u001b[0m\n\u001b[0;32m      7\u001b[0m iterator \u001b[39m=\u001b[39m \u001b[39miter\u001b[39m(dataset)\n\u001b[0;32m      8\u001b[0m \u001b[39mfor\u001b[39;00m iteration \u001b[39min\u001b[39;00m \u001b[39mrange\u001b[39m(n_iterations):\n\u001b[1;32m----> 9\u001b[0m     time_step, policy_state \u001b[39m=\u001b[39m collect_driver\u001b[39m.\u001b[39;49mrun(time_step, policy_state)\n\u001b[0;32m     10\u001b[0m     trajectories, buffer_info \u001b[39m=\u001b[39m \u001b[39mnext\u001b[39m(iterator)\n\u001b[0;32m     12\u001b[0m     train_loss \u001b[39m=\u001b[39m agent\u001b[39m.\u001b[39mtrain(trajectories)\n",
      "File \u001b[1;32mc:\\Users\\Hosein\\anaconda3\\envs\\tf_env\\lib\\site-packages\\tensorflow\\python\\util\\traceback_utils.py:150\u001b[0m, in \u001b[0;36mfilter_traceback.<locals>.error_handler\u001b[1;34m(*args, **kwargs)\u001b[0m\n\u001b[0;32m    148\u001b[0m filtered_tb \u001b[39m=\u001b[39m \u001b[39mNone\u001b[39;00m\n\u001b[0;32m    149\u001b[0m \u001b[39mtry\u001b[39;00m:\n\u001b[1;32m--> 150\u001b[0m   \u001b[39mreturn\u001b[39;00m fn(\u001b[39m*\u001b[39margs, \u001b[39m*\u001b[39m\u001b[39m*\u001b[39mkwargs)\n\u001b[0;32m    151\u001b[0m \u001b[39mexcept\u001b[39;00m \u001b[39mException\u001b[39;00m \u001b[39mas\u001b[39;00m e:\n\u001b[0;32m    152\u001b[0m   filtered_tb \u001b[39m=\u001b[39m _process_traceback_frames(e\u001b[39m.\u001b[39m__traceback__)\n",
      "File \u001b[1;32mc:\\Users\\Hosein\\anaconda3\\envs\\tf_env\\lib\\site-packages\\tensorflow\\python\\eager\\def_function.py:915\u001b[0m, in \u001b[0;36mFunction.__call__\u001b[1;34m(self, *args, **kwds)\u001b[0m\n\u001b[0;32m    912\u001b[0m compiler \u001b[39m=\u001b[39m \u001b[39m\"\u001b[39m\u001b[39mxla\u001b[39m\u001b[39m\"\u001b[39m \u001b[39mif\u001b[39;00m \u001b[39mself\u001b[39m\u001b[39m.\u001b[39m_jit_compile \u001b[39melse\u001b[39;00m \u001b[39m\"\u001b[39m\u001b[39mnonXla\u001b[39m\u001b[39m\"\u001b[39m\n\u001b[0;32m    914\u001b[0m \u001b[39mwith\u001b[39;00m OptionalXlaContext(\u001b[39mself\u001b[39m\u001b[39m.\u001b[39m_jit_compile):\n\u001b[1;32m--> 915\u001b[0m   result \u001b[39m=\u001b[39m \u001b[39mself\u001b[39m\u001b[39m.\u001b[39m_call(\u001b[39m*\u001b[39margs, \u001b[39m*\u001b[39m\u001b[39m*\u001b[39mkwds)\n\u001b[0;32m    917\u001b[0m new_tracing_count \u001b[39m=\u001b[39m \u001b[39mself\u001b[39m\u001b[39m.\u001b[39mexperimental_get_tracing_count()\n\u001b[0;32m    918\u001b[0m without_tracing \u001b[39m=\u001b[39m (tracing_count \u001b[39m==\u001b[39m new_tracing_count)\n",
      "File \u001b[1;32mc:\\Users\\Hosein\\anaconda3\\envs\\tf_env\\lib\\site-packages\\tensorflow\\python\\eager\\def_function.py:954\u001b[0m, in \u001b[0;36mFunction._call\u001b[1;34m(self, *args, **kwds)\u001b[0m\n\u001b[0;32m    951\u001b[0m \u001b[39mself\u001b[39m\u001b[39m.\u001b[39m_lock\u001b[39m.\u001b[39mrelease()\n\u001b[0;32m    952\u001b[0m \u001b[39m# In this case we have not created variables on the first call. So we can\u001b[39;00m\n\u001b[0;32m    953\u001b[0m \u001b[39m# run the first trace but we should fail if variables are created.\u001b[39;00m\n\u001b[1;32m--> 954\u001b[0m results \u001b[39m=\u001b[39m \u001b[39mself\u001b[39m\u001b[39m.\u001b[39m_stateful_fn(\u001b[39m*\u001b[39margs, \u001b[39m*\u001b[39m\u001b[39m*\u001b[39mkwds)\n\u001b[0;32m    955\u001b[0m \u001b[39mif\u001b[39;00m \u001b[39mself\u001b[39m\u001b[39m.\u001b[39m_created_variables \u001b[39mand\u001b[39;00m \u001b[39mnot\u001b[39;00m ALLOW_DYNAMIC_VARIABLE_CREATION:\n\u001b[0;32m    956\u001b[0m   \u001b[39mraise\u001b[39;00m \u001b[39mValueError\u001b[39;00m(\u001b[39m\"\u001b[39m\u001b[39mCreating variables on a non-first call to a function\u001b[39m\u001b[39m\"\u001b[39m\n\u001b[0;32m    957\u001b[0m                    \u001b[39m\"\u001b[39m\u001b[39m decorated with tf.function.\u001b[39m\u001b[39m\"\u001b[39m)\n",
      "File \u001b[1;32mc:\\Users\\Hosein\\anaconda3\\envs\\tf_env\\lib\\site-packages\\tensorflow\\python\\eager\\function.py:2496\u001b[0m, in \u001b[0;36mFunction.__call__\u001b[1;34m(self, *args, **kwargs)\u001b[0m\n\u001b[0;32m   2493\u001b[0m \u001b[39mwith\u001b[39;00m \u001b[39mself\u001b[39m\u001b[39m.\u001b[39m_lock:\n\u001b[0;32m   2494\u001b[0m   (graph_function,\n\u001b[0;32m   2495\u001b[0m    filtered_flat_args) \u001b[39m=\u001b[39m \u001b[39mself\u001b[39m\u001b[39m.\u001b[39m_maybe_define_function(args, kwargs)\n\u001b[1;32m-> 2496\u001b[0m \u001b[39mreturn\u001b[39;00m graph_function\u001b[39m.\u001b[39;49m_call_flat(\n\u001b[0;32m   2497\u001b[0m     filtered_flat_args, captured_inputs\u001b[39m=\u001b[39;49mgraph_function\u001b[39m.\u001b[39;49mcaptured_inputs)\n",
      "File \u001b[1;32mc:\\Users\\Hosein\\anaconda3\\envs\\tf_env\\lib\\site-packages\\tensorflow\\python\\eager\\function.py:1862\u001b[0m, in \u001b[0;36mConcreteFunction._call_flat\u001b[1;34m(self, args, captured_inputs, cancellation_manager)\u001b[0m\n\u001b[0;32m   1858\u001b[0m possible_gradient_type \u001b[39m=\u001b[39m gradients_util\u001b[39m.\u001b[39mPossibleTapeGradientTypes(args)\n\u001b[0;32m   1859\u001b[0m \u001b[39mif\u001b[39;00m (possible_gradient_type \u001b[39m==\u001b[39m gradients_util\u001b[39m.\u001b[39mPOSSIBLE_GRADIENT_TYPES_NONE\n\u001b[0;32m   1860\u001b[0m     \u001b[39mand\u001b[39;00m executing_eagerly):\n\u001b[0;32m   1861\u001b[0m   \u001b[39m# No tape is watching; skip to running the function.\u001b[39;00m\n\u001b[1;32m-> 1862\u001b[0m   \u001b[39mreturn\u001b[39;00m \u001b[39mself\u001b[39m\u001b[39m.\u001b[39m_build_call_outputs(\u001b[39mself\u001b[39;49m\u001b[39m.\u001b[39;49m_inference_function\u001b[39m.\u001b[39;49mcall(\n\u001b[0;32m   1863\u001b[0m       ctx, args, cancellation_manager\u001b[39m=\u001b[39;49mcancellation_manager))\n\u001b[0;32m   1864\u001b[0m forward_backward \u001b[39m=\u001b[39m \u001b[39mself\u001b[39m\u001b[39m.\u001b[39m_select_forward_and_backward_functions(\n\u001b[0;32m   1865\u001b[0m     args,\n\u001b[0;32m   1866\u001b[0m     possible_gradient_type,\n\u001b[0;32m   1867\u001b[0m     executing_eagerly)\n\u001b[0;32m   1868\u001b[0m forward_function, args_with_tangents \u001b[39m=\u001b[39m forward_backward\u001b[39m.\u001b[39mforward()\n",
      "File \u001b[1;32mc:\\Users\\Hosein\\anaconda3\\envs\\tf_env\\lib\\site-packages\\tensorflow\\python\\eager\\function.py:499\u001b[0m, in \u001b[0;36m_EagerDefinedFunction.call\u001b[1;34m(self, ctx, args, cancellation_manager)\u001b[0m\n\u001b[0;32m    497\u001b[0m \u001b[39mwith\u001b[39;00m _InterpolateFunctionError(\u001b[39mself\u001b[39m):\n\u001b[0;32m    498\u001b[0m   \u001b[39mif\u001b[39;00m cancellation_manager \u001b[39mis\u001b[39;00m \u001b[39mNone\u001b[39;00m:\n\u001b[1;32m--> 499\u001b[0m     outputs \u001b[39m=\u001b[39m execute\u001b[39m.\u001b[39;49mexecute(\n\u001b[0;32m    500\u001b[0m         \u001b[39mstr\u001b[39;49m(\u001b[39mself\u001b[39;49m\u001b[39m.\u001b[39;49msignature\u001b[39m.\u001b[39;49mname),\n\u001b[0;32m    501\u001b[0m         num_outputs\u001b[39m=\u001b[39;49m\u001b[39mself\u001b[39;49m\u001b[39m.\u001b[39;49m_num_outputs,\n\u001b[0;32m    502\u001b[0m         inputs\u001b[39m=\u001b[39;49margs,\n\u001b[0;32m    503\u001b[0m         attrs\u001b[39m=\u001b[39;49mattrs,\n\u001b[0;32m    504\u001b[0m         ctx\u001b[39m=\u001b[39;49mctx)\n\u001b[0;32m    505\u001b[0m   \u001b[39melse\u001b[39;00m:\n\u001b[0;32m    506\u001b[0m     outputs \u001b[39m=\u001b[39m execute\u001b[39m.\u001b[39mexecute_with_cancellation(\n\u001b[0;32m    507\u001b[0m         \u001b[39mstr\u001b[39m(\u001b[39mself\u001b[39m\u001b[39m.\u001b[39msignature\u001b[39m.\u001b[39mname),\n\u001b[0;32m    508\u001b[0m         num_outputs\u001b[39m=\u001b[39m\u001b[39mself\u001b[39m\u001b[39m.\u001b[39m_num_outputs,\n\u001b[1;32m   (...)\u001b[0m\n\u001b[0;32m    511\u001b[0m         ctx\u001b[39m=\u001b[39mctx,\n\u001b[0;32m    512\u001b[0m         cancellation_manager\u001b[39m=\u001b[39mcancellation_manager)\n",
      "File \u001b[1;32mc:\\Users\\Hosein\\anaconda3\\envs\\tf_env\\lib\\site-packages\\tensorflow\\python\\eager\\execute.py:54\u001b[0m, in \u001b[0;36mquick_execute\u001b[1;34m(op_name, num_outputs, inputs, attrs, ctx, name)\u001b[0m\n\u001b[0;32m     52\u001b[0m \u001b[39mtry\u001b[39;00m:\n\u001b[0;32m     53\u001b[0m   ctx\u001b[39m.\u001b[39mensure_initialized()\n\u001b[1;32m---> 54\u001b[0m   tensors \u001b[39m=\u001b[39m pywrap_tfe\u001b[39m.\u001b[39;49mTFE_Py_Execute(ctx\u001b[39m.\u001b[39;49m_handle, device_name, op_name,\n\u001b[0;32m     55\u001b[0m                                       inputs, attrs, num_outputs)\n\u001b[0;32m     56\u001b[0m \u001b[39mexcept\u001b[39;00m core\u001b[39m.\u001b[39m_NotOkStatusException \u001b[39mas\u001b[39;00m e:\n\u001b[0;32m     57\u001b[0m   \u001b[39mif\u001b[39;00m name \u001b[39mis\u001b[39;00m \u001b[39mnot\u001b[39;00m \u001b[39mNone\u001b[39;00m:\n",
      "\u001b[1;31mKeyboardInterrupt\u001b[0m: "
     ]
    }
   ],
   "source": [
    "train_agent(n_iterations=train_iters)"
   ]
  },
  {
   "cell_type": "code",
   "execution_count": 13,
   "metadata": {},
   "outputs": [
    {
     "name": "stdout",
     "output_type": "stream",
     "text": [
      "2000/2000"
     ]
    }
   ],
   "source": [
    "frames = []\n",
    "\n",
    "env.pyenv.envs[0].reset()\n",
    "\n",
    "def save_frames(trajectory):\n",
    "    global frames\n",
    "    frames.append(env.pyenv.envs[0].render())\n",
    "\n",
    "watch_driver = DynamicStepDriver(\n",
    "    env,\n",
    "    agent.policy,\n",
    "    observers=[save_frames, ShowProgress(2_000)],\n",
    "    num_steps=2_000)\n",
    "final_time_step, final_policy_state = watch_driver.run()"
   ]
  },
  {
   "cell_type": "code",
   "execution_count": 14,
   "metadata": {},
   "outputs": [],
   "source": [
    "import PIL\n",
    "\n",
    "import os\n",
    "\n",
    "\n",
    "image_path = os.path.join(\"rl videos\", f\"snake_tfagents_{train_iters}.gif\")\n",
    "\n",
    "frame_images = []\n",
    "for frame in frames:\n",
    "    frame_images.append(PIL.Image.fromarray(frame))\n",
    "\n",
    "frame_images[0].save(image_path, format='GIF',\n",
    "                     append_images=frame_images[1:],\n",
    "                     save_all=True,\n",
    "                     duration=30,\n",
    "                     loop=0)"
   ]
  }
 ],
 "metadata": {
  "kernelspec": {
   "display_name": "Python 3.10.10 ('tf_env')",
   "language": "python",
   "name": "python3"
  },
  "language_info": {
   "codemirror_mode": {
    "name": "ipython",
    "version": 3
   },
   "file_extension": ".py",
   "mimetype": "text/x-python",
   "name": "python",
   "nbconvert_exporter": "python",
   "pygments_lexer": "ipython3",
   "version": "3.10.10"
  },
  "orig_nbformat": 4,
  "vscode": {
   "interpreter": {
    "hash": "dd007ac3b45ff6a667b1025d767f59ded49e869e4dbd8cb641dd50277aed6055"
   }
  }
 },
 "nbformat": 4,
 "nbformat_minor": 2
}
